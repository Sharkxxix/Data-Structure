{
  "nbformat": 4,
  "nbformat_minor": 0,
  "metadata": {
    "colab": {
      "provenance": []
    },
    "kernelspec": {
      "name": "python3",
      "display_name": "Python 3"
    },
    "language_info": {
      "name": "python"
    }
  },
  "cells": [
    {
      "cell_type": "markdown",
      "source": [
        "#Data structure\n"
      ],
      "metadata": {
        "id": "iBXNN9tUvktS"
      }
    },
    {
      "cell_type": "markdown",
      "source": [
        "1.  What are data structures, and why are they important ?\n",
        " -  Data structures are a way of organizing and storing data in a computer so that it can be accessed and used efficiently. They are important because choosing the right data structure can significantly impact the performance of an algorithm or program."
      ],
      "metadata": {
        "id": "obRAqw4qv1Nk"
      }
    },
    {
      "cell_type": "markdown",
      "source": [
        " 2.  Explain the difference between mutable and immutable data types with examples.\n",
        "  - Mutable data types can be changed after they are created, while immutable data types cannot . For example, lists and dictionaries are mutable, meaning you can add or remove elements, whereas strings and tuples are immutable ."
      ],
      "metadata": {
        "id": "5YqZTwAwxfkz"
      }
    },
    {
      "cell_type": "markdown",
      "source": [
        "3.  What are the main differences between lists and tuples in Python?\n",
        " - The main differences are that lists are mutable (can be changed) and defined with square brackets , while tuples are immutable (cannot be changed) and defined with parentheses  . This immutability makes tuples slightly faster in performance ."
      ],
      "metadata": {
        "id": "Bv1k8wdZx4zq"
      }
    },
    {
      "cell_type": "markdown",
      "source": [
        "4.  Describe how dictionaries store data.\n",
        " - Dictionaries store data as key-value pairs . Each key is unique and is used to access its corresponding value, which allows for fast data retrieval ."
      ],
      "metadata": {
        "id": "AKJfKs8yyU-x"
      }
    },
    {
      "cell_type": "markdown",
      "source": [
        " 5.  Why might you use a set instead of a list in Python?\n",
        "  - You would use a set when you need to store a collection of unique items and when the order of elements does not matter . Sets are also highly optimized for membership testing (checking if an element is present) .\n",
        "\n"
      ],
      "metadata": {
        "id": "nXwwCOtPyjM9"
      }
    },
    {
      "cell_type": "markdown",
      "source": [
        "6. What is a string in Python, and how is it different from a list?\n",
        " - A string is an immutable sequence of characters used to represent text . Unlike a list, a string cannot be modified after it's created, and it can only contain characters, whereas a list can hold various data types ."
      ],
      "metadata": {
        "id": "2-E3kSbPzJZz"
      }
    },
    {
      "cell_type": "markdown",
      "source": [
        "7.  How do tuples ensure data integrity in Python?\n",
        " - Tuples ensure data integrity because they are immutable, meaning their contents cannot be changed after creation . This prevents accidental modification of data that should remain constant throughout the program ."
      ],
      "metadata": {
        "id": "Uhfg8Reqzbmb"
      }
    },
    {
      "cell_type": "markdown",
      "source": [
        "8.  What is a hash table, and how does it relate to dictionaries in Python?\n",
        " - A hash table is a data structure that maps keys to values for highly efficient lookup . Python's dictionaries are implemented using hash tables, which is why they provide fast access to data .\n",
        "\n"
      ],
      "metadata": {
        "id": "fdv1u60gzn_T"
      }
    },
    {
      "cell_type": "markdown",
      "source": [
        "9.  Can lists contain different data types in Python?\n",
        " - Yes, lists in Python are heterogeneous, meaning they can store elements of different data types within the same list ."
      ],
      "metadata": {
        "id": "1I08Xkj-zzGc"
      }
    },
    {
      "cell_type": "markdown",
      "source": [
        "10.  Explain why strings are immutable in Python.\n",
        " - Strings are immutable in Python to ensure that the data they hold remains constant, which is important for things like dictionary keys or set elements where the value should not change . This also allows for certain internal optimizations and enhances security ."
      ],
      "metadata": {
        "id": "9nAoTBs20AUM"
      }
    },
    {
      "cell_type": "markdown",
      "source": [
        "11.  What advantages do dictionaries offer over lists for certain tasks?\n",
        " - Dictionaries offer the advantage of fast lookups using keys, which is much more efficient than searching for an element in a list, especially for large datasets . They are ideal when you need to associate specific values with unique identifiers ."
      ],
      "metadata": {
        "id": "TB19GTFz0NtL"
      }
    },
    {
      "cell_type": "markdown",
      "source": [
        "12.  Describe a scenario where using a tuple would be preferable over a list?\n",
        " - A tuple is preferable when you have a collection of items that should not change, such as coordinates (x, y), RGB color values, or days of the week . Using a tuple in such cases protects the data from accidental changes ."
      ],
      "metadata": {
        "id": "kqTi828l0ce_"
      }
    },
    {
      "cell_type": "markdown",
      "source": [
        "13.  How do sets handle duplicate values in Python?\n",
        " - Sets automatically handle duplicate values by only storing one instance of each element . If you add a duplicate item to a set, it is simply ignored, ensuring that all elements in the set remain unique ."
      ],
      "metadata": {
        "id": "KFqYDl-G0q90"
      }
    },
    {
      "cell_type": "markdown",
      "source": [
        "14.  How does the “in” keyword work differently for lists and dictionaries?\n",
        " - For lists, the in keyword checks for the presence of a value among its elements, which can be slow for large lists as it may need to scan the entire list . For dictionaries, in checks for the presence of a key, which is very fast because it uses the hash table implementation ."
      ],
      "metadata": {
        "id": "8x0b4gl-1KUy"
      }
    },
    {
      "cell_type": "markdown",
      "source": [
        "15.  Can you modify the elements of a tuple? Explain why or why not.\n",
        " - No, you cannot modify the elements of a tuple because tuples are immutable . If you need to change, add, or remove elements, you would need to create a new tuple with the desired modifications ."
      ],
      "metadata": {
        "id": "cA9fCiLb1ljQ"
      }
    },
    {
      "cell_type": "markdown",
      "source": [
        "16.  What is a nested dictionary, and give an example of its use case?\n",
        " - A nested dictionary is a dictionary that contains other dictionaries as its values . A use case would be storing employee data, where the outer dictionary keys are employee IDs and the values are dictionaries containing details like name, department, and salary ."
      ],
      "metadata": {
        "id": "Jej-H36a1y3j"
      }
    },
    {
      "cell_type": "markdown",
      "source": [
        "17.  Describe the time complexity of accessing elements in a dictionary.\n",
        " - The time complexity of accessing elements in a dictionary is, on average, O(1), or constant time . This means the time it takes to retrieve an element is independent of the size of the dictionary, making it very efficient ."
      ],
      "metadata": {
        "id": "aE5OcaIi2OVv"
      }
    },
    {
      "cell_type": "markdown",
      "source": [
        "18.  In what situations are lists preferred over dictionaries?\n",
        "  - Lists are preferred over dictionaries when you need an ordered collection of items and the position (index) of the elements is important . They are also suitable when the collection does not require key-value pairs ."
      ],
      "metadata": {
        "id": "FlYNJzaL2cRy"
      }
    },
    {
      "cell_type": "markdown",
      "source": [
        "19. Why are dictionaries considered unordered, and how does that affect data retrieval?\n",
        " - Historically, Python dictionaries were unordered because their primary goal was fast key-based lookup, not maintaining insertion order ,  this change could not rely on the order of elements when iterating through a dictionary ."
      ],
      "metadata": {
        "id": "RXo-6PY4207M"
      }
    },
    {
      "cell_type": "markdown",
      "source": [
        "20.  Explain the difference between a list and a dictionary in terms of data retrieval.\n",
        " - In a list, data is retrieved by its numerical index, and the time taken can increase with the size of the list (O(n) for searching a value) . In a dictionary, data is retrieved by a unique key, which is very fast regardless of the dictionary's size (average O(1) complexity) ."
      ],
      "metadata": {
        "id": "emERMJJO3WG3"
      }
    },
    {
      "cell_type": "markdown",
      "source": [
        "  # Data structure (Practical)"
      ],
      "metadata": {
        "id": "hJpilUbw3jF1"
      }
    },
    {
      "cell_type": "markdown",
      "source": [
        "1.  Write a code to create a string with your name and print it.\n",
        "\n"
      ],
      "metadata": {
        "id": "2QSG8zpf3wTP"
      }
    },
    {
      "cell_type": "code",
      "source": [
        "name = \"Karan singh\"\n",
        "print(name)\n"
      ],
      "metadata": {
        "colab": {
          "base_uri": "https://localhost:8080/"
        },
        "id": "beZ3rp3-419J",
        "outputId": "17a8d22a-6f84-4c02-966e-c41334f5a020"
      },
      "execution_count": 1,
      "outputs": [
        {
          "output_type": "stream",
          "name": "stdout",
          "text": [
            "Karan singh\n"
          ]
        }
      ]
    },
    {
      "cell_type": "markdown",
      "source": [
        "2.  Write a code to find the length of the string \"Hello World\"."
      ],
      "metadata": {
        "id": "R5rkyhvC5CVd"
      }
    },
    {
      "cell_type": "code",
      "source": [
        "hello_string = \"Hello World\"\n",
        "print(len(hello_string))\n"
      ],
      "metadata": {
        "colab": {
          "base_uri": "https://localhost:8080/"
        },
        "id": "VVJmyLF15Hud",
        "outputId": "5f4db70c-c7b7-4dd6-c0f2-2a465971f9f7"
      },
      "execution_count": 2,
      "outputs": [
        {
          "output_type": "stream",
          "name": "stdout",
          "text": [
            "11\n"
          ]
        }
      ]
    },
    {
      "cell_type": "markdown",
      "source": [
        "3.  Write a code to slice the first 3 characters from the string \"Python Programming\"."
      ],
      "metadata": {
        "id": "x6i8mrBu5QYE"
      }
    },
    {
      "cell_type": "code",
      "source": [
        "programming_string = \"Python Programming\"\n",
        "print(programming_string[:3])\n"
      ],
      "metadata": {
        "colab": {
          "base_uri": "https://localhost:8080/"
        },
        "id": "BcSsM9IH5V2q",
        "outputId": "8306c4f8-2f42-4978-fb28-75d15e4f1c11"
      },
      "execution_count": 3,
      "outputs": [
        {
          "output_type": "stream",
          "name": "stdout",
          "text": [
            "Pyt\n"
          ]
        }
      ]
    },
    {
      "cell_type": "markdown",
      "source": [
        "4.  Write a code to convert the string \"hello\" to uppercase."
      ],
      "metadata": {
        "id": "z2OQrpEm5bxF"
      }
    },
    {
      "cell_type": "code",
      "source": [
        "lowercase_string = \"hello\"\n",
        "print(lowercase_string.upper())\n"
      ],
      "metadata": {
        "colab": {
          "base_uri": "https://localhost:8080/"
        },
        "id": "gc-7Y61W5oON",
        "outputId": "859bc814-7713-4f6f-dae7-e9718883a321"
      },
      "execution_count": 4,
      "outputs": [
        {
          "output_type": "stream",
          "name": "stdout",
          "text": [
            "HELLO\n"
          ]
        }
      ]
    },
    {
      "cell_type": "markdown",
      "source": [
        "5.Write a code to replace the word \"apple\" with \"orange\" in the string \"I like apple\"."
      ],
      "metadata": {
        "id": "qM8gl9Rv5y3I"
      }
    },
    {
      "cell_type": "code",
      "source": [
        "fruit_string = \"I like apple\"\n",
        "print(fruit_string.replace(\"apple\", \"orange\"))\n"
      ],
      "metadata": {
        "colab": {
          "base_uri": "https://localhost:8080/"
        },
        "id": "bKqE_8A8519e",
        "outputId": "cc78c6d8-aaba-4aea-a99a-2519964dc233"
      },
      "execution_count": 5,
      "outputs": [
        {
          "output_type": "stream",
          "name": "stdout",
          "text": [
            "I like orange\n"
          ]
        }
      ]
    },
    {
      "cell_type": "markdown",
      "source": [
        "6.  Write a code to create a list with numbers 1 to 5 and print it."
      ],
      "metadata": {
        "id": "WmI0i7WB58w_"
      }
    },
    {
      "cell_type": "code",
      "source": [
        "number_list_a = [1, 2, 3, 4, 5]\n",
        "print(number_list_a)\n"
      ],
      "metadata": {
        "colab": {
          "base_uri": "https://localhost:8080/"
        },
        "id": "1OpEqKAM6CcA",
        "outputId": "d4a0b622-ad79-49df-99fc-b0538820a5c4"
      },
      "execution_count": 6,
      "outputs": [
        {
          "output_type": "stream",
          "name": "stdout",
          "text": [
            "[1, 2, 3, 4, 5]\n"
          ]
        }
      ]
    },
    {
      "cell_type": "markdown",
      "source": [
        "7.  Write a code to append the number 10 to the list [1, 2, 3, 4]."
      ],
      "metadata": {
        "id": "AOBACAV06Vuj"
      }
    },
    {
      "cell_type": "code",
      "source": [
        "number_list_b = [1, 2, 3, 4]\n",
        "number_list_b.append(10)\n",
        "print(number_list_b)\n"
      ],
      "metadata": {
        "colab": {
          "base_uri": "https://localhost:8080/"
        },
        "id": "XJPvBiMi6c_a",
        "outputId": "bc29f64e-28e1-4fdf-fe0c-9b49169df97b"
      },
      "execution_count": 7,
      "outputs": [
        {
          "output_type": "stream",
          "name": "stdout",
          "text": [
            "[1, 2, 3, 4, 10]\n"
          ]
        }
      ]
    },
    {
      "cell_type": "markdown",
      "source": [
        "8. Write a code to remove the number 3 from the list [1, 2, 3, 4, 5].\n"
      ],
      "metadata": {
        "id": "ygTn2nWS6kFh"
      }
    },
    {
      "cell_type": "code",
      "source": [
        "number_list_c = [1, 2, 3, 4, 5]\n",
        "number_list_c.remove(3)\n",
        "print(number_list_c)\n"
      ],
      "metadata": {
        "colab": {
          "base_uri": "https://localhost:8080/"
        },
        "id": "0ckOVeiI6pyi",
        "outputId": "14c69322-8955-4a94-ced3-9bb5d66b8e7f"
      },
      "execution_count": 8,
      "outputs": [
        {
          "output_type": "stream",
          "name": "stdout",
          "text": [
            "[1, 2, 4, 5]\n"
          ]
        }
      ]
    },
    {
      "cell_type": "markdown",
      "source": [
        "9.  Write a code to access the second element in the list ['a', 'b', 'c', 'd']."
      ],
      "metadata": {
        "id": "I-_2g7ti65ZS"
      }
    },
    {
      "cell_type": "code",
      "source": [
        "char_list = ['a', 'b', 'c', 'd']\n",
        "print(char_list[1])\n"
      ],
      "metadata": {
        "colab": {
          "base_uri": "https://localhost:8080/"
        },
        "id": "-qfuyK2667sQ",
        "outputId": "024af68a-0f57-4ae8-d8e1-373b4c974088"
      },
      "execution_count": 9,
      "outputs": [
        {
          "output_type": "stream",
          "name": "stdout",
          "text": [
            "b\n"
          ]
        }
      ]
    },
    {
      "cell_type": "markdown",
      "source": [
        "10. Write a code to reverse the list [10, 20, 30, 40, 50]."
      ],
      "metadata": {
        "id": "kdKzfUYN7Cxm"
      }
    },
    {
      "cell_type": "code",
      "source": [
        "number_list_d = [10, 20, 30, 40, 50]\n",
        "print(number_list_d[::-1])\n"
      ],
      "metadata": {
        "colab": {
          "base_uri": "https://localhost:8080/"
        },
        "id": "ELLXmBbT7IDZ",
        "outputId": "8f388579-1f1d-4d41-f3e1-7eb4caf35f12"
      },
      "execution_count": 10,
      "outputs": [
        {
          "output_type": "stream",
          "name": "stdout",
          "text": [
            "[50, 40, 30, 20, 10]\n"
          ]
        }
      ]
    },
    {
      "cell_type": "markdown",
      "source": [
        "11. Write a code to create a tuple with the elements 100, 200, 300 and print it."
      ],
      "metadata": {
        "id": "QMshycQl75jE"
      }
    },
    {
      "cell_type": "code",
      "source": [
        "my_tuple = (100, 200, 300)\n",
        "print(my_tuple)\n"
      ],
      "metadata": {
        "colab": {
          "base_uri": "https://localhost:8080/"
        },
        "id": "NDzDsYzQ790l",
        "outputId": "44f23a89-7f6a-4a4a-ca1b-0e426230bd63"
      },
      "execution_count": 11,
      "outputs": [
        {
          "output_type": "stream",
          "name": "stdout",
          "text": [
            "(100, 200, 300)\n"
          ]
        }
      ]
    },
    {
      "cell_type": "markdown",
      "source": [
        "12.  Write a code to access the second-to-last element of the tuple ('red', 'green', 'blue', 'yellow')."
      ],
      "metadata": {
        "id": "WH2ft0GN8I3d"
      }
    },
    {
      "cell_type": "code",
      "source": [
        "colors = ('red', 'green', 'blue', 'yellow')\n",
        "second_to_last = colors[-2]\n",
        "print(second_to_last)\n"
      ],
      "metadata": {
        "colab": {
          "base_uri": "https://localhost:8080/"
        },
        "id": "ReOyLmOt8S6X",
        "outputId": "45babcfb-b588-4e95-d293-d0029de8fc6b"
      },
      "execution_count": 12,
      "outputs": [
        {
          "output_type": "stream",
          "name": "stdout",
          "text": [
            "blue\n"
          ]
        }
      ]
    },
    {
      "cell_type": "markdown",
      "source": [
        "13. Write a code to find the minimum number in the tuple (10, 20, 5, 15).\n"
      ],
      "metadata": {
        "id": "JUeqacL48ctq"
      }
    },
    {
      "cell_type": "code",
      "source": [
        "numbers = (10, 20, 5, 15)\n",
        "min_value = min(numbers)\n",
        "print(min_value)\n"
      ],
      "metadata": {
        "colab": {
          "base_uri": "https://localhost:8080/"
        },
        "id": "mRguGyXp8jvo",
        "outputId": "53c0d599-b366-448c-d3ba-32379606ee78"
      },
      "execution_count": 13,
      "outputs": [
        {
          "output_type": "stream",
          "name": "stdout",
          "text": [
            "5\n"
          ]
        }
      ]
    },
    {
      "cell_type": "markdown",
      "source": [
        "14. Write a code to find the index of the element \"cat\" in the tuple ('dog', 'cat', 'rabbit')."
      ],
      "metadata": {
        "id": "z4wZAdfF8q40"
      }
    },
    {
      "cell_type": "code",
      "source": [
        "animals = ('dog', 'cat', 'rabbit')\n",
        "index_of_cat = animals.index('cat')\n",
        "print(index_of_cat)\n"
      ],
      "metadata": {
        "colab": {
          "base_uri": "https://localhost:8080/"
        },
        "id": "y8EaYQDm8vpW",
        "outputId": "8f9bcff7-98e6-4977-fbed-e459e0a16d03"
      },
      "execution_count": 14,
      "outputs": [
        {
          "output_type": "stream",
          "name": "stdout",
          "text": [
            "1\n"
          ]
        }
      ]
    },
    {
      "cell_type": "markdown",
      "source": [
        "15.  Write a code to create a tuple containing three different fruits and check if \"kiwi\" is in it."
      ],
      "metadata": {
        "id": "Jk37kdhJ80h6"
      }
    },
    {
      "cell_type": "code",
      "source": [
        "fruits = ('apple', 'banana', 'kiwi')\n",
        "is_kiwi_present = 'kiwi' in fruits\n",
        "print(is_kiwi_present)\n"
      ],
      "metadata": {
        "colab": {
          "base_uri": "https://localhost:8080/"
        },
        "id": "Tp2TxuA385jm",
        "outputId": "60ba2588-3ebc-4320-cd03-5ca1b3c2fde4"
      },
      "execution_count": 15,
      "outputs": [
        {
          "output_type": "stream",
          "name": "stdout",
          "text": [
            "True\n"
          ]
        }
      ]
    },
    {
      "cell_type": "markdown",
      "source": [
        "16. Write a code to create a set with the elements 'a', 'b', 'c' and print it."
      ],
      "metadata": {
        "id": "PlIp435a9eTE"
      }
    },
    {
      "cell_type": "code",
      "source": [
        "my_set = {'a', 'b', 'c'}\n",
        "print(my_set)\n"
      ],
      "metadata": {
        "colab": {
          "base_uri": "https://localhost:8080/"
        },
        "id": "gZzZmuzA9g-x",
        "outputId": "cbfb4220-5b7e-4cbe-cd64-4af90f539d89"
      },
      "execution_count": 16,
      "outputs": [
        {
          "output_type": "stream",
          "name": "stdout",
          "text": [
            "{'a', 'c', 'b'}\n"
          ]
        }
      ]
    },
    {
      "cell_type": "markdown",
      "source": [
        "17. Write a code to clear all elements from the set {1, 2, 3, 4, 5}."
      ],
      "metadata": {
        "id": "2cGZ-94G9mtm"
      }
    },
    {
      "cell_type": "code",
      "source": [
        "number_set = {1, 2, 3, 4, 5}\n",
        "number_set.clear()\n",
        "print(number_set)\n"
      ],
      "metadata": {
        "colab": {
          "base_uri": "https://localhost:8080/"
        },
        "id": "_KYFb7oT9vUP",
        "outputId": "fc1e4517-f1fe-4eef-8849-39fc2a6f382a"
      },
      "execution_count": 17,
      "outputs": [
        {
          "output_type": "stream",
          "name": "stdout",
          "text": [
            "set()\n"
          ]
        }
      ]
    },
    {
      "cell_type": "markdown",
      "source": [
        "18.  Write a code to remove the element 4 from the set {1, 2, 3, 4}."
      ],
      "metadata": {
        "id": "c4WB65zW91TF"
      }
    },
    {
      "cell_type": "code",
      "source": [
        "number_set = {1, 2, 3, 4}\n",
        "number_set.remove(4)\n",
        "print(number_set)\n"
      ],
      "metadata": {
        "colab": {
          "base_uri": "https://localhost:8080/"
        },
        "id": "TWXzwO0Q96VH",
        "outputId": "a72d0cd3-3ab7-40da-8466-da6e50e0a03e"
      },
      "execution_count": 18,
      "outputs": [
        {
          "output_type": "stream",
          "name": "stdout",
          "text": [
            "{1, 2, 3}\n"
          ]
        }
      ]
    },
    {
      "cell_type": "markdown",
      "source": [
        "19.  Write a code to find the union of two sets {1, 2, 3} and {3, 4, 5}."
      ],
      "metadata": {
        "id": "wVwYKR46-btJ"
      }
    },
    {
      "cell_type": "code",
      "source": [
        "set1 = {1, 2, 3}\n",
        "set2 = {3, 4, 5}\n",
        "union_set = set1.union(set2)\n",
        "print(union_set)\n"
      ],
      "metadata": {
        "colab": {
          "base_uri": "https://localhost:8080/"
        },
        "id": "3Ks4L4Nf-hdw",
        "outputId": "fcf0fd49-7ace-4700-bc0b-17c1b34d7b19"
      },
      "execution_count": 19,
      "outputs": [
        {
          "output_type": "stream",
          "name": "stdout",
          "text": [
            "{1, 2, 3, 4, 5}\n"
          ]
        }
      ]
    },
    {
      "cell_type": "markdown",
      "source": [
        "20.  Write a code to find the intersection of two sets {1, 2, 3} and {2, 3, 4}."
      ],
      "metadata": {
        "id": "clXUEMQa-pO4"
      }
    },
    {
      "cell_type": "code",
      "source": [
        "set1 = {1, 2, 3}\n",
        "set2 = {2, 3, 4}\n",
        "intersection_set = set1.intersection(set2)\n",
        "print(intersection_set)\n"
      ],
      "metadata": {
        "colab": {
          "base_uri": "https://localhost:8080/"
        },
        "id": "vC5auex0-v9h",
        "outputId": "986e773c-5aea-4700-9298-3954502321cd"
      },
      "execution_count": 20,
      "outputs": [
        {
          "output_type": "stream",
          "name": "stdout",
          "text": [
            "{2, 3}\n"
          ]
        }
      ]
    },
    {
      "cell_type": "markdown",
      "source": [
        "21.  Write a code to create a dictionary with the keys \"name\", \"age\", and \"city\", and print it."
      ],
      "metadata": {
        "id": "ZUak3gjH_dTe"
      }
    },
    {
      "cell_type": "code",
      "source": [
        "my_dictionary = {\n",
        "    \"name\": \"karan\",\n",
        "    \"age\": 20,\n",
        "    \"city\": \"jaipur\"\n",
        "}\n",
        "print(my_dictionary)\n"
      ],
      "metadata": {
        "colab": {
          "base_uri": "https://localhost:8080/"
        },
        "id": "To6uHmzQ-8av",
        "outputId": "614186a4-6269-439b-d0c8-fe7fb68b7f44"
      },
      "execution_count": 22,
      "outputs": [
        {
          "output_type": "stream",
          "name": "stdout",
          "text": [
            "{'name': 'karan', 'age': 20, 'city': 'jaipur'}\n"
          ]
        }
      ]
    },
    {
      "cell_type": "markdown",
      "source": [
        "22.  Write a code to add a new key-value pair \"country\": \"USA\" to the dictionary {'name': 'John', 'age': 25}."
      ],
      "metadata": {
        "id": "x2Bo3nOY_knA"
      }
    },
    {
      "cell_type": "code",
      "source": [
        "person = {'name': 'John', 'age': 25}\n",
        "person['country'] = 'USA'\n",
        "print(person)\n"
      ],
      "metadata": {
        "colab": {
          "base_uri": "https://localhost:8080/"
        },
        "id": "0f7APwQE_4hB",
        "outputId": "162dab69-754b-4ccd-8cef-ab091a8dbb3e"
      },
      "execution_count": 24,
      "outputs": [
        {
          "output_type": "stream",
          "name": "stdout",
          "text": [
            "{'name': 'John', 'age': 25, 'country': 'USA'}\n"
          ]
        }
      ]
    },
    {
      "cell_type": "markdown",
      "source": [
        "23.  Write a code to access the value associated with the key \"name\" in the dictionary {'name': 'Alice', 'age': 30}."
      ],
      "metadata": {
        "id": "tW_gYorcAFla"
      }
    },
    {
      "cell_type": "code",
      "source": [
        "person = {'name': 'Alice', 'age': 30}\n",
        "name = person['name']\n",
        "print(name)\n"
      ],
      "metadata": {
        "colab": {
          "base_uri": "https://localhost:8080/"
        },
        "id": "5XYbTrI2AX8m",
        "outputId": "485ba35a-1ae7-4b51-84b9-51aeb87f886e"
      },
      "execution_count": 25,
      "outputs": [
        {
          "output_type": "stream",
          "name": "stdout",
          "text": [
            "Alice\n"
          ]
        }
      ]
    },
    {
      "cell_type": "markdown",
      "source": [
        "24. Write a code to remove the key \"age\" from the dictionary {'name': 'Bob', 'age': 22, 'city': 'New York'}."
      ],
      "metadata": {
        "id": "TiVyRvbmAgci"
      }
    },
    {
      "cell_type": "code",
      "source": [
        "person = {'name': 'Bob', 'age': 22, 'city': 'New York'}\n",
        "del person['age']\n",
        "print(person)\n"
      ],
      "metadata": {
        "colab": {
          "base_uri": "https://localhost:8080/"
        },
        "id": "vRyz0r99AlPO",
        "outputId": "b30b6617-8422-404d-ac0a-c886363907ad"
      },
      "execution_count": 26,
      "outputs": [
        {
          "output_type": "stream",
          "name": "stdout",
          "text": [
            "{'name': 'Bob', 'city': 'New York'}\n"
          ]
        }
      ]
    },
    {
      "cell_type": "markdown",
      "source": [
        "25. Write a code to check if the key \"city\" exists in the dictionary {'name': 'Alice', 'city': 'Paris'}."
      ],
      "metadata": {
        "id": "ELPgip_AAr2p"
      }
    },
    {
      "cell_type": "code",
      "source": [
        "person = {'name': 'Alice', 'city': 'Paris'}\n",
        "city_exists = 'city' in person\n",
        "print(city_exists)\n"
      ],
      "metadata": {
        "colab": {
          "base_uri": "https://localhost:8080/"
        },
        "id": "vTQ-S_JMAxqe",
        "outputId": "3891a1e5-c0d1-4bd8-d1eb-85b751170124"
      },
      "execution_count": 27,
      "outputs": [
        {
          "output_type": "stream",
          "name": "stdout",
          "text": [
            "True\n"
          ]
        }
      ]
    },
    {
      "cell_type": "markdown",
      "source": [
        "26. Write a code to create a list, a tuple, and a dictionary, and print them all."
      ],
      "metadata": {
        "id": "y6gzgmCWA4YU"
      }
    },
    {
      "cell_type": "code",
      "source": [
        "my_list = [1, 'hello', 3.14]\n",
        "my_tuple = ('a', 'b', 'c')\n",
        "my_dictionary = {'key1': 'value1', 'key2': 'value2'}\n",
        "\n",
        "print(\"List:\", my_list)\n",
        "print(\"Tuple:\", my_tuple)\n",
        "print(\"Dictionary:\", my_dictionary)\n"
      ],
      "metadata": {
        "colab": {
          "base_uri": "https://localhost:8080/"
        },
        "id": "galKYt5mA9wC",
        "outputId": "e039ac18-df30-44fb-fc3e-f7a0fe78dee8"
      },
      "execution_count": 28,
      "outputs": [
        {
          "output_type": "stream",
          "name": "stdout",
          "text": [
            "List: [1, 'hello', 3.14]\n",
            "Tuple: ('a', 'b', 'c')\n",
            "Dictionary: {'key1': 'value1', 'key2': 'value2'}\n"
          ]
        }
      ]
    },
    {
      "cell_type": "markdown",
      "source": [
        "27. Write a code to create a list of 5 random numbers between 1 and 100, sort it in ascending order, and print the results.(replaced)"
      ],
      "metadata": {
        "id": "njWBzWDgBHy1"
      }
    },
    {
      "cell_type": "code",
      "source": [
        "import random\n",
        "\n",
        "random_numbers = [random.randint(1, 100) for _ in range(5)]\n",
        "random_numbers.sort()\n",
        "print(random_numbers)\n"
      ],
      "metadata": {
        "colab": {
          "base_uri": "https://localhost:8080/"
        },
        "id": "SarHU6YTBdCW",
        "outputId": "80a14223-2bbe-437e-f905-6dcd41e8737e"
      },
      "execution_count": 29,
      "outputs": [
        {
          "output_type": "stream",
          "name": "stdout",
          "text": [
            "[12, 42, 50, 65, 87]\n"
          ]
        }
      ]
    },
    {
      "cell_type": "markdown",
      "source": [
        "28.  Write a code to create a list with strings and print the element at the third index."
      ],
      "metadata": {
        "id": "tPWmgt3MB7Li"
      }
    },
    {
      "cell_type": "code",
      "source": [
        "string_list = [\"first\", \"second\", \"third\", \"fourth\"]\n",
        "element_at_third_index = string_list[3]\n",
        "print(element_at_third_index)\n"
      ],
      "metadata": {
        "colab": {
          "base_uri": "https://localhost:8080/"
        },
        "id": "SMEkl9uUB_7Q",
        "outputId": "c7f0edea-6884-4c8b-cbed-545c6bfa2606"
      },
      "execution_count": 30,
      "outputs": [
        {
          "output_type": "stream",
          "name": "stdout",
          "text": [
            "fourth\n"
          ]
        }
      ]
    },
    {
      "cell_type": "markdown",
      "source": [
        "29.  Write a code to combine two dictionaries into one and print the result."
      ],
      "metadata": {
        "id": "ntEwwsVACLzm"
      }
    },
    {
      "cell_type": "code",
      "source": [
        "dict1 = {'a': 1, 'b': 2}\n",
        "dict2 = {'c': 3, 'd': 4}\n",
        "combined_dict = {**dict1, **dict2}\n",
        "\n",
        "print(combined_dict)\n"
      ],
      "metadata": {
        "colab": {
          "base_uri": "https://localhost:8080/"
        },
        "id": "ff4SQMHoCROu",
        "outputId": "4afe8b15-2c41-4156-c1b2-fa3f2bad821d"
      },
      "execution_count": 31,
      "outputs": [
        {
          "output_type": "stream",
          "name": "stdout",
          "text": [
            "{'a': 1, 'b': 2, 'c': 3, 'd': 4}\n"
          ]
        }
      ]
    },
    {
      "cell_type": "markdown",
      "source": [
        "30. Write a code to convert a list of strings into a set."
      ],
      "metadata": {
        "id": "Gc9BJnnPCdOJ"
      }
    },
    {
      "cell_type": "code",
      "source": [
        "list_of_strings = [\"apple\", \"banana\", \"apple\", \"cherry\", \"banana\"]\n",
        "converted_set = set(list_of_strings)\n",
        "print(converted_set)\n"
      ],
      "metadata": {
        "colab": {
          "base_uri": "https://localhost:8080/"
        },
        "id": "Y03uCD6bCiii",
        "outputId": "97c5d74a-688d-4084-e095-7b15735443b7"
      },
      "execution_count": 32,
      "outputs": [
        {
          "output_type": "stream",
          "name": "stdout",
          "text": [
            "{'cherry', 'apple', 'banana'}\n"
          ]
        }
      ]
    }
  ]
}